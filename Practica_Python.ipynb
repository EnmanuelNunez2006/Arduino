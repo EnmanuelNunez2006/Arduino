{
  "nbformat": 4,
  "nbformat_minor": 0,
  "metadata": {
    "colab": {
      "provenance": [],
      "authorship_tag": "ABX9TyOIvyjAa5KOHDvqv29WjV6k",
      "include_colab_link": true
    },
    "kernelspec": {
      "name": "python3",
      "display_name": "Python 3"
    },
    "language_info": {
      "name": "python"
    }
  },
  "cells": [
    {
      "cell_type": "markdown",
      "metadata": {
        "id": "view-in-github",
        "colab_type": "text"
      },
      "source": [
        "<a href=\"https://colab.research.google.com/github/EnmanuelNunez2006/Arduino/blob/main/Practica_Python.ipynb\" target=\"_parent\"><img src=\"https://colab.research.google.com/assets/colab-badge.svg\" alt=\"Open In Colab\"/></a>"
      ]
    },
    {
      "cell_type": "code",
      "execution_count": null,
      "metadata": {
        "id": "nRnT6PBLMnep"
      },
      "outputs": [],
      "source": [
        "#Ejercicios de python"
      ]
    },
    {
      "cell_type": "code",
      "source": [
        "#Uso de cadenas o strings\n",
        "\n",
        "#Ejercicio #1\n",
        "def imprimir_nombre(nombre, repeticiones):\n",
        "    for _ in range(repeticiones):\n",
        "        print(nombre)\n",
        "\n",
        "# Ejemplo de uso:\n",
        "nombre_usuario = input(\"Por favor, ingresa tu nombre: \")\n",
        "numero = int(input(\"Ingresa un número entero: \"))\n",
        "\n",
        "imprimir_nombre(nombre_usuario, numero)\n"
      ],
      "metadata": {
        "colab": {
          "base_uri": "https://localhost:8080/"
        },
        "id": "3YQEZCpBNgbW",
        "outputId": "71cd8c3b-dea4-4c9d-8fba-39214a11a08a"
      },
      "execution_count": null,
      "outputs": [
        {
          "output_type": "stream",
          "name": "stdout",
          "text": [
            "Por favor, ingresa tu nombre: Enma\n",
            "Ingresa un número entero: 2\n",
            "Enma\n",
            "Enma\n"
          ]
        }
      ]
    },
    {
      "cell_type": "code",
      "source": [
        "#Ejercicio #2\n",
        "def imprimir_nombre_formato(nombre_completo):\n",
        "    nombre_minusculas = nombre_completo.lower()\n",
        "    nombre_mayusculas = nombre_completo.upper()\n",
        "    nombre_capitalizado = nombre_completo.title()\n",
        "\n",
        "    print(\"Nombre en minúsculas:\", nombre_minusculas)\n",
        "    print(\"Nombre en mayúsculas:\", nombre_mayusculas)\n",
        "    print(\"Nombre capitalizado:\", nombre_capitalizado)\n",
        "\n",
        "# Ejemplo de uso:\n",
        "nombre_usuario = input(\"Por favor, ingresa tu nombre completo: \")\n",
        "imprimir_nombre_formato(nombre_usuario)\n"
      ],
      "metadata": {
        "colab": {
          "base_uri": "https://localhost:8080/"
        },
        "id": "w1-san7CNwdR",
        "outputId": "3bd30576-d0c9-4f0e-d63a-33078d87297a"
      },
      "execution_count": null,
      "outputs": [
        {
          "output_type": "stream",
          "name": "stdout",
          "text": [
            "Por favor, ingresa tu nombre completo: Enmanuel Nunez Ferreras\n",
            "Nombre en minúsculas: enmanuel nunez ferreras\n",
            "Nombre en mayúsculas: ENMANUEL NUNEZ FERRERAS\n",
            "Nombre capitalizado: Enmanuel Nunez Ferreras\n"
          ]
        }
      ]
    },
    {
      "cell_type": "code",
      "source": [
        "#Ejercicio #3\n",
        "def contar_letras(nombre):\n",
        "    nombre_mayusculas = nombre.upper()\n",
        "    numero_letras = len(nombre)\n",
        "    print(f\"{nombre_mayusculas} tiene {numero_letras} letras.\")\n",
        "\n",
        "# Ejemplo de uso:\n",
        "nombre_usuario = input(\"Por favor, ingresa tu nombre: \")\n",
        "contar_letras(nombre_usuario)\n"
      ],
      "metadata": {
        "colab": {
          "base_uri": "https://localhost:8080/"
        },
        "id": "kQkVJ8bUOR6y",
        "outputId": "4b15e6d9-affb-4ab5-dd91-80fb9b59ea0a"
      },
      "execution_count": null,
      "outputs": [
        {
          "output_type": "stream",
          "name": "stdout",
          "text": [
            "Por favor, ingresa tu nombre: Enma\n",
            "ENMA tiene 4 letras.\n"
          ]
        }
      ]
    },
    {
      "cell_type": "code",
      "source": [
        "#Ejercicio #4\n",
        "\n",
        "def extraer_numero(numero_telefono):\n",
        "    numero_sin_prefijo_y_extension = numero_telefono[4:13]\n",
        "    return numero_sin_prefijo_y_extension\n",
        "\n",
        "# Ejemplo de uso:\n",
        "numero_telefono = \"+34-913724710-56\"\n",
        "print(extraer_numero(numero_telefono))\n",
        "\n",
        "\n"
      ],
      "metadata": {
        "colab": {
          "base_uri": "https://localhost:8080/"
        },
        "id": "sKj2DLxfOlw9",
        "outputId": "a3fbc2d7-0e1d-4f7b-e68c-d4fbe8e237e8"
      },
      "execution_count": null,
      "outputs": [
        {
          "output_type": "stream",
          "name": "stdout",
          "text": [
            "913724710\n"
          ]
        }
      ]
    },
    {
      "cell_type": "code",
      "source": [
        "#Ejercicio #5\n",
        "\n",
        "def invertir_frase(frase):\n",
        "    frase_invertida = frase[::-1]\n",
        "    print(f\"Frase invertida: {frase_invertida}\")\n",
        "\n",
        "# Ejemplo de uso:\n",
        "frase = input(\"Ingresa una frase: \")\n",
        "invertir_frase(frase)\n"
      ],
      "metadata": {
        "colab": {
          "base_uri": "https://localhost:8080/"
        },
        "id": "5bGOS64mQtM_",
        "outputId": "87b2383f-97a8-4ac3-80a4-ecfe2aadc128"
      },
      "execution_count": null,
      "outputs": [
        {
          "output_type": "stream",
          "name": "stdout",
          "text": [
            "Ingresa una frase: brawl stars\n",
            "Frase invertida: srats lwarb\n"
          ]
        }
      ]
    },
    {
      "cell_type": "code",
      "source": [
        "#Condicionales"
      ],
      "metadata": {
        "id": "24LdoNhHQ-Zs"
      },
      "execution_count": null,
      "outputs": []
    },
    {
      "cell_type": "code",
      "source": [
        "#Ejericio #1\n",
        "def verificar_mayor_edad(edad):\n",
        "    if edad >= 18:\n",
        "        print(\"Es mayor de edad.\")\n",
        "    else:\n",
        "        print(\"No es mayor de edad.\")\n",
        "\n",
        "# Ejemplo de uso:\n",
        "edad = int(input(\"Ingrese su edad: \"))\n",
        "verificar_mayor_edad(edad)\n"
      ],
      "metadata": {
        "colab": {
          "base_uri": "https://localhost:8080/"
        },
        "id": "OmlZ93VtRCGj",
        "outputId": "6bbe8ad8-f765-4950-f2e0-4de8ce4e0fac"
      },
      "execution_count": null,
      "outputs": [
        {
          "output_type": "stream",
          "name": "stdout",
          "text": [
            "Ingrese su edad: 18\n",
            "Es mayor de edad.\n"
          ]
        }
      ]
    },
    {
      "cell_type": "code",
      "source": [
        "#Ejercicio #2\n",
        "def verificar_contrasena(contrasena_guardada, contrasena_usuario):\n",
        "    if contrasena_guardada.lower() == contrasena_usuario.lower():\n",
        "        print(\"¡Contraseña correcta!\")\n",
        "    else:\n",
        "        print(\"¡Contraseña incorrecta!\")\n",
        "\n",
        "# Ejemplo de uso:\n",
        "contrasena_guardada = \"MiContrasena123\"\n",
        "contrasena_usuario = input(\"Introduce la contraseña: \")\n",
        "verificar_contrasena(contrasena_guardada, contrasena_usuario)\n"
      ],
      "metadata": {
        "colab": {
          "base_uri": "https://localhost:8080/"
        },
        "id": "r_BSJWX-Ri18",
        "outputId": "61d50ff1-2e5e-4ed6-b7bb-982c78a988c2"
      },
      "execution_count": null,
      "outputs": [
        {
          "output_type": "stream",
          "name": "stdout",
          "text": [
            "Introduce la contraseña: MiContrasena123\n",
            "¡Contraseña correcta!\n"
          ]
        }
      ]
    },
    {
      "cell_type": "code",
      "source": [
        "#Ejercicio #3\n",
        "def tributar_o_no():\n",
        "    edad = int(input(\"Por favor, ingresa tu edad: \"))\n",
        "    ingresos_mensuales = float(input(\"Por favor, ingresa tus ingresos mensuales en euros: \"))\n",
        "\n",
        "    if edad > 16 and ingresos_mensuales >= 1000:\n",
        "        print(\"Tienes que tributar.\")\n",
        "    else:\n",
        "        print(\"No tienes que tributar.\")\n",
        "\n",
        "# Ejemplo de uso:\n",
        "tributar_o_no()\n"
      ],
      "metadata": {
        "id": "TeeObrQ7R6zA",
        "colab": {
          "base_uri": "https://localhost:8080/"
        },
        "outputId": "551e9017-733c-43c4-d6d0-bba1063e308b"
      },
      "execution_count": null,
      "outputs": [
        {
          "output_type": "stream",
          "name": "stdout",
          "text": [
            "Por favor, ingresa tu edad: 12\n",
            "Por favor, ingresa tus ingresos mensuales en euros: 1000\n",
            "No tienes que tributar.\n"
          ]
        }
      ]
    },
    {
      "cell_type": "code",
      "source": [
        "#Ejercicio #4\n",
        "def determinar_grupo():\n",
        "    nombre = input(\"Por favor, ingresa tu nombre: \")\n",
        "    sexo = input(\"Por favor, ingresa tu sexo (H para hombre, M para mujer): \")\n",
        "\n",
        "    if (sexo == \"M\" and nombre[0].upper() < \"N\") or (sexo == \"H\" and nombre[0].upper() > \"M\"):\n",
        "        grupo = \"A\"\n",
        "    else:\n",
        "        grupo = \"B\"\n",
        "\n",
        "    print(f\"Tu nombre es {nombre} y eres {sexo}. Pertences al grupo {grupo}.\")\n",
        "\n",
        "# Ejemplo de uso:\n",
        "determinar_grupo()\n"
      ],
      "metadata": {
        "colab": {
          "base_uri": "https://localhost:8080/"
        },
        "id": "sGrhb5t7rL9g",
        "outputId": "c9e4e6ee-2ea2-41b3-b500-81212922697b"
      },
      "execution_count": null,
      "outputs": [
        {
          "output_type": "stream",
          "name": "stdout",
          "text": [
            "Por favor, ingresa tu nombre: Enma\n",
            "Por favor, ingresa tu sexo (H para hombre, M para mujer): h\n",
            "Tu nombre es Enma y eres h. Pertences al grupo B.\n"
          ]
        }
      ]
    },
    {
      "cell_type": "code",
      "source": [
        "#Ejercicio #5\n",
        "def evaluar_empleado(puntuacion):\n",
        "    if puntuacion == 0.0:\n",
        "        nivel = \"Inaceptable\"\n",
        "    elif puntuacion == 0.4:\n",
        "        nivel = \"Aceptable\"\n",
        "    elif puntuacion >= 0.6:\n",
        "        nivel = \"Meritorio\"\n",
        "    else:\n",
        "        nivel = \"Puntuación inválida\"\n",
        "\n",
        "    if nivel != \"Puntuación inválida\":\n",
        "        cantidad_dinero = 2400 * puntuacion\n",
        "        print(f\"Nivel de rendimiento: {nivel}\")\n",
        "        print(f\"Cantidad de dinero conseguida: {cantidad_dinero}€\")\n",
        "    else:\n",
        "        print(\"La puntuación ingresada no es válida.\")\n",
        "\n",
        "# Ejemplo de uso:\n",
        "puntuacion = float(input(\"Por favor, ingresa la puntuación del empleado: \"))\n",
        "evaluar_empleado(puntuacion)\n"
      ],
      "metadata": {
        "colab": {
          "base_uri": "https://localhost:8080/"
        },
        "id": "GjFM847-ryzM",
        "outputId": "0fda3515-5404-46bf-8524-c1504369b2b5"
      },
      "execution_count": null,
      "outputs": [
        {
          "output_type": "stream",
          "name": "stdout",
          "text": [
            "Por favor, ingresa la puntuación del empleado: 10\n",
            "Nivel de rendimiento: Meritorio\n",
            "Cantidad de dinero conseguida: 24000.0€\n"
          ]
        }
      ]
    },
    {
      "cell_type": "code",
      "source": [
        "#Ejercicio #6\n",
        "def calcular_precio_entrada(edad):\n",
        "    if edad < 4:\n",
        "        precio = 0\n",
        "    elif 4 <= edad <= 18:\n",
        "        precio = 5\n",
        "    else:\n",
        "        precio = 10\n",
        "    return precio\n",
        "\n",
        "# Solicitar la edad al usuario\n",
        "try:\n",
        "    edad = int(input(\"Por favor, ingresa tu edad: \"))\n",
        "    if edad >= 0:\n",
        "        precio_entrada = calcular_precio_entrada(edad)\n",
        "        print(f\"El precio de la entrada es: {precio_entrada} euros.\")\n",
        "    else:\n",
        "        print(\"La edad ingresada no es válida.\")\n",
        "except ValueError:\n",
        "    print(\"Por favor, ingresa un número válido para la edad.\")\n"
      ],
      "metadata": {
        "colab": {
          "base_uri": "https://localhost:8080/"
        },
        "id": "GZIiMJ-pr5-U",
        "outputId": "45a1b1ed-bba2-4aad-b380-6222c4f477ee"
      },
      "execution_count": null,
      "outputs": [
        {
          "output_type": "stream",
          "name": "stdout",
          "text": [
            "Por favor, ingresa tu edad: 18\n",
            "El precio de la entrada es: 5 euros.\n"
          ]
        }
      ]
    },
    {
      "cell_type": "code",
      "source": [
        "#Ejercicio #7\n",
        "def mostrar_menu():\n",
        "    print(\"Ingredientes disponibles:\")\n",
        "    print(\"1. Mozzarella y tomate (en todas las pizzas)\")\n",
        "    print(\"2. Pimiento\")\n",
        "    print(\"3. Tofu\")\n",
        "    print(\"4. Peperoni\")\n",
        "    print(\"5. Jamón\")\n",
        "    print(\"6. Salmón\")\n",
        "\n",
        "def elegir_pizza():\n",
        "    tipo_pizza = input(\"¿Desea una pizza vegetariana? (Sí/No): \").lower()\n",
        "    if tipo_pizza == \"sí\":\n",
        "        print(\"Pizza vegetariana\")\n",
        "        mostrar_menu()\n",
        "        opcion = int(input(\"Por favor, elija un ingrediente (1-3): \"))\n",
        "        if opcion == 1:\n",
        "            ingredientes = [\"Mozzarella\", \"Tomate\", \"Pimiento\"]\n",
        "        elif opcion == 2:\n",
        "            ingredientes = [\"Mozzarella\", \"Tomate\", \"Tofu\"]\n",
        "        else:\n",
        "            print(\"Opción no válida\")\n",
        "            return\n",
        "    elif tipo_pizza == \"no\":\n",
        "        print(\"Pizza no vegetariana\")\n",
        "        mostrar_menu()\n",
        "        opcion = int(input(\"Por favor, elija un ingrediente (1-6): \"))\n",
        "        if opcion == 1:\n",
        "            ingredientes = [\"Mozzarella\", \"Tomate\", \"Peperoni\"]\n",
        "        elif opcion == 2:\n",
        "            ingredientes = [\"Mozzarella\", \"Tomate\", \"Jamón\"]\n",
        "        elif opcion == 3:\n",
        "            ingredientes = [\"Mozzarella\", \"Tomate\", \"Salmón\"]\n",
        "        else:\n",
        "            print(\"Opción no válida\")\n",
        "            return\n",
        "    else:\n",
        "        print(\"Respuesta no válida\")\n",
        "        return\n",
        "\n",
        "    print(\"Ingredientes de la pizza:\", ingredientes)\n",
        "\n",
        "# Ejemplo de uso:\n",
        "elegir_pizza()\n"
      ],
      "metadata": {
        "colab": {
          "base_uri": "https://localhost:8080/"
        },
        "id": "MAz0Xq2qsLkL",
        "outputId": "3a91829b-642c-42ee-fc79-8d2aa2151552"
      },
      "execution_count": null,
      "outputs": [
        {
          "output_type": "stream",
          "name": "stdout",
          "text": [
            "¿Desea una pizza vegetariana? (Sí/No): no\n",
            "Pizza no vegetariana\n",
            "Ingredientes disponibles:\n",
            "1. Mozzarella y tomate (en todas las pizzas)\n",
            "2. Pimiento\n",
            "3. Tofu\n",
            "4. Peperoni\n",
            "5. Jamón\n",
            "6. Salmón\n",
            "Por favor, elija un ingrediente (1-6): 2\n",
            "Ingredientes de la pizza: ['Mozzarella', 'Tomate', 'Jamón']\n"
          ]
        }
      ]
    },
    {
      "cell_type": "code",
      "source": [
        "#Ciclos"
      ],
      "metadata": {
        "id": "tetyj_qGsWjM"
      },
      "execution_count": null,
      "outputs": []
    },
    {
      "cell_type": "code",
      "source": [
        "#Ejercicio #1\n",
        "def calcular_capital(cantidad, interes_anual, años):\n",
        "    capital = cantidad\n",
        "    for año in range(1, años + 1):\n",
        "        capital += capital * (interes_anual / 100)\n",
        "        print(f\"Año {año}: {capital:.2f} euros\")\n",
        "\n",
        "cantidad_invertida = float(input(\"Ingrese la cantidad a invertir: \"))\n",
        "interes_anual = float(input(\"Ingrese el interés anual en porcentaje: \"))\n",
        "años = int(input(\"Ingrese el número de años de la inversión: \"))\n",
        "\n",
        "calcular_capital(cantidad_invertida, interes_anual, años)\n"
      ],
      "metadata": {
        "colab": {
          "base_uri": "https://localhost:8080/"
        },
        "id": "OzhZqSf_s6xW",
        "outputId": "fbe723b8-0871-4543-9e6d-251c0aea3044"
      },
      "execution_count": null,
      "outputs": [
        {
          "output_type": "stream",
          "name": "stdout",
          "text": [
            "Ingrese la cantidad a invertir: 100\n",
            "Ingrese el interés anual en porcentaje: 1\n",
            "Ingrese el número de años de la inversión: 2\n",
            "Año 1: 101.00 euros\n",
            "Año 2: 102.01 euros\n"
          ]
        }
      ]
    },
    {
      "cell_type": "code",
      "source": [
        "#Ejercicio #2\n",
        "def imprimir_triangulo(numero):\n",
        "    for i in range(1, numero + 1):\n",
        "        print('*' * i)\n",
        "\n",
        "try:\n",
        "    altura = int(input(\"Ingrese la altura del triángulo: \"))\n",
        "    if altura > 0:\n",
        "        imprimir_triangulo(altura)\n",
        "    else:\n",
        "        print(\"Por favor, ingrese un número entero positivo.\")\n",
        "except ValueError:\n",
        "    print(\"Por favor, ingrese un número entero válido.\")\n"
      ],
      "metadata": {
        "colab": {
          "base_uri": "https://localhost:8080/"
        },
        "id": "oj0Tp5TRtGkT",
        "outputId": "f7dd01b9-3fc0-42af-86ec-b50753f7a6ec"
      },
      "execution_count": null,
      "outputs": [
        {
          "output_type": "stream",
          "name": "stdout",
          "text": [
            "Ingrese la altura del triángulo: 10\n",
            "*\n",
            "**\n",
            "***\n",
            "****\n",
            "*****\n",
            "******\n",
            "*******\n",
            "********\n",
            "*********\n",
            "**********\n"
          ]
        }
      ]
    },
    {
      "cell_type": "code",
      "source": [
        "#Ejercicio #3\n",
        "try:\n",
        "    numero = int(input(\"Ingrese un número entero: \"))\n",
        "    if numero > 0:\n",
        "        for i in range(1, numero + 1, 2):\n",
        "            for j in range(i, 0, -2):\n",
        "                print(j, end=\" \")\n",
        "            print()\n",
        "    else:\n",
        "        print(\"Por favor, ingrese un número entero positivo.\")\n",
        "except ValueError:\n",
        "    print(\"Por favor, ingrese un número entero válido.\")\n"
      ],
      "metadata": {
        "colab": {
          "base_uri": "https://localhost:8080/"
        },
        "id": "p1ms6SaYuRL2",
        "outputId": "bf28a17f-1711-457d-cd05-0f2d0372b64d"
      },
      "execution_count": null,
      "outputs": [
        {
          "output_type": "stream",
          "name": "stdout",
          "text": [
            "Ingrese un número entero: 10\n",
            "1 \n",
            "3 1 \n",
            "5 3 1 \n",
            "7 5 3 1 \n",
            "9 7 5 3 1 \n"
          ]
        }
      ]
    },
    {
      "cell_type": "code",
      "source": [
        "#Ejercicio #4\n",
        "frase = input(\"Ingrese una frase: \")\n",
        "letra = input(\"Ingrese una letra: \")\n",
        "\n",
        "# Contar el número de veces que aparece la letra en la frase\n",
        "veces = frase.count(letra)\n",
        "\n",
        "print(f\"La letra '{letra}' aparece {veces} veces en la frase.\")\n",
        "\n"
      ],
      "metadata": {
        "colab": {
          "base_uri": "https://localhost:8080/"
        },
        "id": "LGvc92dGuaSg",
        "outputId": "69698029-1554-45c3-8b43-6f4c5240f7fd"
      },
      "execution_count": null,
      "outputs": [
        {
          "output_type": "stream",
          "name": "stdout",
          "text": [
            "Ingrese una frase: Enma god\n",
            "Ingrese una letra: a\n",
            "La letra 'a' aparece 1 veces en la frase.\n"
          ]
        }
      ]
    },
    {
      "cell_type": "code",
      "source": [
        "#Ejercicio #5\n",
        "palabra = input(\"Ingrese una palabra: \")\n",
        "\n",
        "# Iterar sobre las letras de la palabra empezando por la última\n",
        "for letra in palabra[::-1]:\n",
        "    print(letra)\n"
      ],
      "metadata": {
        "colab": {
          "base_uri": "https://localhost:8080/"
        },
        "id": "FJUtTuupuohy",
        "outputId": "ef0c3aa3-6ef9-4aea-e2e3-844a868f7c8a"
      },
      "execution_count": null,
      "outputs": [
        {
          "output_type": "stream",
          "name": "stdout",
          "text": [
            "Ingrese una palabra: ola\n",
            "a\n",
            "l\n",
            "o\n"
          ]
        }
      ]
    },
    {
      "cell_type": "code",
      "source": [
        "#Ejercicio #6\n",
        "# Lista de asignaturas\n",
        "asignaturas = [\"Matemáticas\", \"Física\", \"Química\", \"Historia\", \"Lengua\"]\n",
        "notas = []\n",
        "\n",
        "# Solicitar la nota de cada asignatura al usuario\n",
        "for asignatura in asignaturas:\n",
        "    nota = input(f\"Ingrese la nota de {asignatura}: \")\n",
        "    notas.append(nota)\n",
        "\n",
        "# Mostrar las asignaturas y sus notas por pantalla\n",
        "for i in range(len(asignaturas)):\n",
        "    print(f\"En {asignaturas[i]} has sacado {notas[i]}\")\n"
      ],
      "metadata": {
        "colab": {
          "base_uri": "https://localhost:8080/"
        },
        "id": "dvbuY1gWuxW9",
        "outputId": "6780f8cb-1999-49c2-dfca-d229b1270b09"
      },
      "execution_count": null,
      "outputs": [
        {
          "output_type": "stream",
          "name": "stdout",
          "text": [
            "Ingrese la nota de Matemáticas: 100\n",
            "Ingrese la nota de Física: 100\n",
            "Ingrese la nota de Química: 100\n",
            "Ingrese la nota de Historia: 100\n",
            "Ingrese la nota de Lengua: 100\n",
            "En Matemáticas has sacado 100\n",
            "En Física has sacado 100\n",
            "En Química has sacado 100\n",
            "En Historia has sacado 100\n",
            "En Lengua has sacado 100\n"
          ]
        }
      ]
    },
    {
      "cell_type": "code",
      "source": [
        "#Ejercicio #7\n",
        "# Lista de asignaturas\n",
        "asignaturas = [\"Matemáticas\", \"Física\", \"Química\", \"Historia\", \"Lengua\"]\n",
        "\n",
        "asignaturas_a_repetir = []\n",
        "\n",
        "for asignatura in asignaturas[:]:\n",
        "    nota = float(input(f\"Ingrese la nota de {asignatura}: \"))\n",
        "\n",
        "    if nota < 70.0:\n",
        "        asignaturas_a_repetir.append(asignatura)\n",
        "        asignaturas.remove(asignatura)\n",
        "\n",
        "print(\"\\nAsignaturas a repetir:\")\n",
        "for asignatura in asignaturas_a_repetir:\n",
        "    print(asignatura)\n",
        "\n"
      ],
      "metadata": {
        "colab": {
          "base_uri": "https://localhost:8080/"
        },
        "id": "-qqoZdUQvJgs",
        "outputId": "fe64278b-8c78-4e1e-c4bf-2b0b4ac47537"
      },
      "execution_count": null,
      "outputs": [
        {
          "output_type": "stream",
          "name": "stdout",
          "text": [
            "Ingrese la nota de Matemáticas: 89\n",
            "Ingrese la nota de Física: 56\n",
            "Ingrese la nota de Química: 80\n",
            "Ingrese la nota de Historia: 10\n",
            "Ingrese la nota de Lengua: 0\n",
            "\n",
            "Asignaturas a repetir:\n",
            "Física\n",
            "Historia\n",
            "Lengua\n"
          ]
        }
      ]
    },
    {
      "cell_type": "code",
      "source": [
        "#Ejercicio #8\n",
        "# Diccionario con los créditos de las asignaturas\n",
        "creditos_asignaturas = {'Matemáticas': 6, 'Física': 4, 'Química': 5}\n",
        "\n",
        "# Mostrar los créditos de cada asignatura\n",
        "for asignatura, creditos in creditos_asignaturas.items():\n",
        "    print(f\"{asignatura} tiene {creditos} créditos\")\n",
        "\n",
        "# Calcular el número total de créditos del curso\n",
        "total_creditos = sum(creditos_asignaturas.values())\n",
        "print(f\"El número total de créditos del curso es: {total_creditos}\")\n"
      ],
      "metadata": {
        "colab": {
          "base_uri": "https://localhost:8080/"
        },
        "id": "g0XM7iGcwex9",
        "outputId": "9012a05c-5744-497a-fd4c-82e0be255eb2"
      },
      "execution_count": null,
      "outputs": [
        {
          "output_type": "stream",
          "name": "stdout",
          "text": [
            "Matemáticas tiene 6 créditos\n",
            "Física tiene 4 créditos\n",
            "Química tiene 5 créditos\n",
            "El número total de créditos del curso es: 15\n"
          ]
        }
      ]
    },
    {
      "cell_type": "code",
      "source": [
        "#Funciones"
      ],
      "metadata": {
        "id": "_QKmD_u0wkEV"
      },
      "execution_count": null,
      "outputs": []
    },
    {
      "cell_type": "code",
      "source": [
        "#Ejercicio #1\n",
        "def calcular_total_factura(cantidad_sin_iva, porcentaje_iva=21):\n",
        "    total = cantidad_sin_iva + cantidad_sin_iva * (porcentaje_iva / 100)\n",
        "    return total\n",
        "\n",
        "# Ejemplos de uso:\n",
        "cantidad_sin_iva = float(input(\"Ingrese la cantidad sin IVA: \"))\n",
        "total_factura = calcular_total_factura(cantidad_sin_iva)\n",
        "print(f\"Total de la factura (IVA del 21% aplicado): {total_factura}\")\n",
        "\n",
        "porcentaje_iva_personalizado = float(input(\"Ingrese el porcentaje de IVA a aplicar (si no ingresa nada, se aplicará el 21%): \"))\n",
        "if porcentaje_iva_personalizado:\n",
        "    total_factura_personalizado = calcular_total_factura(cantidad_sin_iva, porcentaje_iva_personalizado)\n",
        "    print(f\"Total de la factura (IVA del {porcentaje_iva_personalizado}% aplicado): {total_factura_personalizado}\")\n"
      ],
      "metadata": {
        "colab": {
          "base_uri": "https://localhost:8080/"
        },
        "id": "g9SrKXaFwqMd",
        "outputId": "6f29ff59-8f5a-4d6a-b4df-2e838aa26b0d"
      },
      "execution_count": null,
      "outputs": [
        {
          "output_type": "stream",
          "name": "stdout",
          "text": [
            "Ingrese la cantidad sin IVA: 210\n",
            "Total de la factura (IVA del 21% aplicado): 254.1\n",
            "Ingrese el porcentaje de IVA a aplicar (si no ingresa nada, se aplicará el 21%): 13\n",
            "Total de la factura (IVA del 13.0% aplicado): 237.3\n"
          ]
        }
      ]
    },
    {
      "cell_type": "code",
      "source": [
        "#Ejercicio #2\n",
        "\n",
        "def decimal_a_binario(decimal):\n",
        "    if decimal == 0:\n",
        "        return '0'\n",
        "    binario = ''\n",
        "    while decimal > 0:\n",
        "        residuo = decimal % 2\n",
        "        binario = str(residuo) + binario\n",
        "        decimal = decimal // 2\n",
        "    return binario\n",
        "\n",
        "def binario_a_decimal(binario):\n",
        "    decimal = 0\n",
        "    longitud = len(binario)\n",
        "    for i in range(longitud):\n",
        "        bit = int(binario[i])\n",
        "        exponente = longitud - 1 - i\n",
        "        decimal += bit * (2 ** exponente)\n",
        "    return decimal\n",
        "\n",
        "# Función para que el usuario elija el número a convertir\n",
        "def seleccionar_numero():\n",
        "    while True:\n",
        "        try:\n",
        "            numero = int(input(\"Ingrese un número entero para convertir (ingrese 0 para salir): \"))\n",
        "            if numero < 0:\n",
        "                print(\"Por favor, ingrese un número entero positivo.\")\n",
        "            else:\n",
        "                return numero\n",
        "        except ValueError:\n",
        "            print(\"Por favor, ingrese un número entero válido.\")\n",
        "\n",
        "# Programa principal\n",
        "while True:\n",
        "    numero = seleccionar_numero()\n",
        "    if numero == 0:\n",
        "        print(\"¡Adiós!\")\n",
        "        break\n",
        "    print(\"\\n¿Qué conversión desea hacer?\")\n",
        "    print(\"1. Decimal a Binario\")\n",
        "    print(\"2. Binario a Decimal\")\n",
        "    opcion = input(\"Ingrese el número de la opción deseada: \")\n",
        "\n",
        "    if opcion == '1':\n",
        "        print(f\"\\n{numero} en binario es: {decimal_a_binario(numero)}\")\n",
        "    elif opcion == '2':\n",
        "        print(f\"\\n{numero} en decimal es: {binario_a_decimal(str(numero))}\")\n",
        "    else:\n",
        "        print(\"Opción no válida. Por favor, ingrese 1 o 2 para seleccionar la conversión.\")\n"
      ],
      "metadata": {
        "colab": {
          "base_uri": "https://localhost:8080/"
        },
        "id": "-YpUT8--RN-s",
        "outputId": "bea0e646-9ab1-4c38-9dd0-d44ec8dd3b1e"
      },
      "execution_count": 10,
      "outputs": [
        {
          "output_type": "stream",
          "name": "stdout",
          "text": [
            "Ingrese un número entero para convertir (ingrese 0 para salir): 19\n",
            "\n",
            "¿Qué conversión desea hacer?\n",
            "1. Decimal a Binario\n",
            "2. Binario a Decimal\n",
            "Ingrese el número de la opción deseada: 2\n",
            "\n",
            "19 en decimal es: 11\n",
            "Ingrese un número entero para convertir (ingrese 0 para salir): 0\n",
            "¡Adiós!\n"
          ]
        }
      ]
    },
    {
      "cell_type": "code",
      "source": [
        "#Ejercicio #3\n",
        "\n",
        "def contar_palabras(cadena):\n",
        "    # Dividir la cadena en palabras y eliminar signos de puntuación\n",
        "    palabras = cadena.split()\n",
        "    palabras_limpias = [palabra.strip(\",.!?\") for palabra in palabras]\n",
        "\n",
        "    # Crear un diccionario para almacenar la frecuencia de cada palabra\n",
        "    frecuencia = {}\n",
        "    for palabra in palabras_limpias:\n",
        "        if palabra in frecuencia:\n",
        "            frecuencia[palabra] += 1\n",
        "        else:\n",
        "            frecuencia[palabra] = 1\n",
        "\n",
        "    return frecuencia\n",
        "\n",
        "def palabra_mas_repetida(diccionario):\n",
        "    if not diccionario:\n",
        "        return None, 0\n",
        "\n",
        "    palabra_mas_comun = max(diccionario, key=diccionario.get)\n",
        "    frecuencia = diccionario[palabra_mas_comun]\n",
        "    return palabra_mas_comun, frecuencia\n",
        "\n",
        "# Ejemplo de uso\n",
        "cadena = \"Hola mundo, hola Python. Mundo, mundo, mundo. Python Python Python!\"\n",
        "frecuencia_palabras = contar_palabras(cadena)\n",
        "print(\"Frecuencia de palabras:\", frecuencia_palabras)\n",
        "\n",
        "palabra_mas_repetida, frecuencia = palabra_mas_repetida(frecuencia_palabras)\n",
        "print(\"Palabra más repetida:\", palabra_mas_repetida)\n",
        "print(\"Frecuencia:\", frecuencia)\n"
      ],
      "metadata": {
        "colab": {
          "base_uri": "https://localhost:8080/"
        },
        "id": "CD3H40FzSa0h",
        "outputId": "0b103818-93a5-48e4-ccf4-b8fcf809f31f"
      },
      "execution_count": 11,
      "outputs": [
        {
          "output_type": "stream",
          "name": "stdout",
          "text": [
            "Frecuencia de palabras: {'Hola': 1, 'mundo': 3, 'hola': 1, 'Python': 4, 'Mundo': 1}\n",
            "Palabra más repetida: Python\n",
            "Frecuencia: 4\n"
          ]
        }
      ]
    }
  ]
}